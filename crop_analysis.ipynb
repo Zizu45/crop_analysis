{
 "cells": [
  {
   "cell_type": "markdown",
   "id": "277786de-4193-41cd-b05e-7ad56f0b61ff",
   "metadata": {},
   "source": [
    "reading the file"
   ]
  },
  {
   "cell_type": "code",
   "execution_count": 26,
   "id": "63904cb0-9020-4171-911d-7e583125edde",
   "metadata": {},
   "outputs": [
    {
     "data": {
      "text/html": [
       "<div>\n",
       "<style scoped>\n",
       "    .dataframe tbody tr th:only-of-type {\n",
       "        vertical-align: middle;\n",
       "    }\n",
       "\n",
       "    .dataframe tbody tr th {\n",
       "        vertical-align: top;\n",
       "    }\n",
       "\n",
       "    .dataframe thead th {\n",
       "        text-align: right;\n",
       "    }\n",
       "</style>\n",
       "<table border=\"1\" class=\"dataframe\">\n",
       "  <thead>\n",
       "    <tr style=\"text-align: right;\">\n",
       "      <th></th>\n",
       "      <th>Field_ID</th>\n",
       "      <th>Elevation</th>\n",
       "      <th>Rainfall</th>\n",
       "      <th>Min_temperature_C</th>\n",
       "      <th>Max_temperature_C</th>\n",
       "      <th>pH</th>\n",
       "      <th>Pollution_level</th>\n",
       "      <th>Plot_size</th>\n",
       "      <th>Annual_yield</th>\n",
       "      <th>Crop_type</th>\n",
       "    </tr>\n",
       "  </thead>\n",
       "  <tbody>\n",
       "    <tr>\n",
       "      <th>0</th>\n",
       "      <td>1162</td>\n",
       "      <td>494.95615</td>\n",
       "      <td>1507.6</td>\n",
       "      <td>-5.4</td>\n",
       "      <td>31.0</td>\n",
       "      <td>6.859436</td>\n",
       "      <td>0.007034</td>\n",
       "      <td>3.6</td>\n",
       "      <td>1.617421</td>\n",
       "      <td>coffee</td>\n",
       "    </tr>\n",
       "    <tr>\n",
       "      <th>1</th>\n",
       "      <td>5108</td>\n",
       "      <td>663.73390</td>\n",
       "      <td>581.0</td>\n",
       "      <td>-4.7</td>\n",
       "      <td>30.9</td>\n",
       "      <td>5.603219</td>\n",
       "      <td>0.289643</td>\n",
       "      <td>4.2</td>\n",
       "      <td>2.532497</td>\n",
       "      <td>potato</td>\n",
       "    </tr>\n",
       "    <tr>\n",
       "      <th>2</th>\n",
       "      <td>3504</td>\n",
       "      <td>396.87990</td>\n",
       "      <td>1715.1</td>\n",
       "      <td>-6.1</td>\n",
       "      <td>31.7</td>\n",
       "      <td>5.774116</td>\n",
       "      <td>0.000409</td>\n",
       "      <td>2.6</td>\n",
       "      <td>1.262207</td>\n",
       "      <td>banana</td>\n",
       "    </tr>\n",
       "    <tr>\n",
       "      <th>3</th>\n",
       "      <td>5351</td>\n",
       "      <td>594.80370</td>\n",
       "      <td>1748.0</td>\n",
       "      <td>-4.3</td>\n",
       "      <td>33.6</td>\n",
       "      <td>6.477415</td>\n",
       "      <td>0.088777</td>\n",
       "      <td>7.9</td>\n",
       "      <td>4.351564</td>\n",
       "      <td>wheat</td>\n",
       "    </tr>\n",
       "    <tr>\n",
       "      <th>4</th>\n",
       "      <td>905</td>\n",
       "      <td>609.49800</td>\n",
       "      <td>1395.8</td>\n",
       "      <td>-4.5</td>\n",
       "      <td>31.3</td>\n",
       "      <td>5.419586</td>\n",
       "      <td>0.050023</td>\n",
       "      <td>10.8</td>\n",
       "      <td>5.034791</td>\n",
       "      <td>cassava</td>\n",
       "    </tr>\n",
       "  </tbody>\n",
       "</table>\n",
       "</div>"
      ],
      "text/plain": [
       "   Field_ID  Elevation  Rainfall  Min_temperature_C  Max_temperature_C  \\\n",
       "0      1162  494.95615    1507.6               -5.4               31.0   \n",
       "1      5108  663.73390     581.0               -4.7               30.9   \n",
       "2      3504  396.87990    1715.1               -6.1               31.7   \n",
       "3      5351  594.80370    1748.0               -4.3               33.6   \n",
       "4       905  609.49800    1395.8               -4.5               31.3   \n",
       "\n",
       "         pH  Pollution_level  Plot_size  Annual_yield Crop_type  \n",
       "0  6.859436         0.007034        3.6      1.617421    coffee  \n",
       "1  5.603219         0.289643        4.2      2.532497    potato  \n",
       "2  5.774116         0.000409        2.6      1.262207    banana  \n",
       "3  6.477415         0.088777        7.9      4.351564     wheat  \n",
       "4  5.419586         0.050023       10.8      5.034791   cassava  "
      ]
     },
     "execution_count": 26,
     "metadata": {},
     "output_type": "execute_result"
    }
   ],
   "source": [
    "import pandas as pd\n",
    "import numpy as np\n",
    "import os\n",
    "import seaborn as sns\n",
    "import matplotlib.pyplot as plt\n",
    "\n",
    "# Define the full path to the CSV file\n",
    "file_path = r'C:\\Users\\Admin\\Documents\\MD_agric_exam-4313\\MD_agric_exam-4313.csv'\n",
    "\n",
    "# Read the CSV file\n",
    "df = pd.read_csv(file_path)\n",
    "\n",
    "# Display the first few rows\n",
    "df.head()\n"
   ]
  },
  {
   "cell_type": "markdown",
   "id": "bc586eca-73da-4c7c-b2c2-fcdd0f84f736",
   "metadata": {},
   "source": [
    "Write code to determine the number of unique crop types in the dataset?"
   ]
  },
  {
   "cell_type": "code",
   "execution_count": 29,
   "id": "445712e0-7e74-4f5e-807a-7ac704a0eef2",
   "metadata": {},
   "outputs": [
    {
     "name": "stdout",
     "output_type": "stream",
     "text": [
      "Number of unique crop types: 8\n"
     ]
    }
   ],
   "source": [
    "num_of_unique_crops = df['Crop_type'].nunique()\n",
    "\n",
    "# Print the result\n",
    "print(\"Number of unique crop types:\", num_of_unique_crops)"
   ]
  },
  {
   "cell_type": "markdown",
   "id": "c9252376-adb2-4b59-a302-cff0e68896bf",
   "metadata": {},
   "source": [
    "Identify the maximum annual yield for \"wheat\" crop type in the dataset (rounded to 2 decimal places)."
   ]
  },
  {
   "cell_type": "code",
   "execution_count": 34,
   "id": "56b0d9ef-fde8-4629-894c-c9267fa5d6cf",
   "metadata": {},
   "outputs": [
    {
     "name": "stdout",
     "output_type": "stream",
     "text": [
      "Maximum Yield of Wheat: 8.994376295629458\n"
     ]
    }
   ],
   "source": [
    "# Find the maximum yield of the crop type 'Wheat'\n",
    "max_wheat_yield = df[df['Crop_type'] == 'wheat']['Annual_yield'].max()\n",
    "\n",
    "# Print the maximum yield of 'Wheat'\n",
    "print(\"Maximum Yield of Wheat:\", max_wheat_yield)"
   ]
  },
  {
   "cell_type": "markdown",
   "id": "5e507740-26c1-4038-be2f-6e01b7122cca",
   "metadata": {},
   "source": [
    "Find the total rainfall for crop types where the average pollution level is above 0.2."
   ]
  },
  {
   "cell_type": "code",
   "execution_count": 35,
   "id": "09efd6f6-304e-4747-964c-c58056c3ae08",
   "metadata": {},
   "outputs": [
    {
     "name": "stdout",
     "output_type": "stream",
     "text": [
      "Total Rainfall for crop types with average pollution level > 0.2: 941959.7\n"
     ]
    }
   ],
   "source": [
    "# Calculate average pollution level for each crop type\n",
    "average_pollution = df.groupby('Crop_type')['Pollution_level'].mean()\n",
    "\n",
    "# Filter crop types where average pollution level is above 0.2\n",
    "filtered_crop_types = average_pollution[average_pollution > 0.2].index.tolist()\n",
    "\n",
    "# Calculate total rainfall for filtered crop types\n",
    "total_rainfall = df[df['Crop_type'].isin(filtered_crop_types)]['Rainfall'].sum()\n",
    "\n",
    "# Print the total rainfall\n",
    "print(\"Total Rainfall for crop types with average pollution level > 0.2:\", total_rainfall)"
   ]
  },
  {
   "cell_type": "markdown",
   "id": "450ebe47-fd44-48ad-b540-0ad809f1758d",
   "metadata": {},
   "source": [
    "Write a function to calculate the temperature range (Max_temperature_C - Min_temperature_C) for each farmer's field. Then, call the function with the following `Field_ID`: `1458`, `1895`, and `5443`. What are the results of these 3 calls?"
   ]
  },
  {
   "cell_type": "code",
   "execution_count": 36,
   "id": "0ae268b5-6e79-4239-ab73-6dc5b271edcc",
   "metadata": {},
   "outputs": [
    {
     "name": "stdout",
     "output_type": "stream",
     "text": [
      "Temperature range for Field_ID 1458: 40.7\n",
      "Temperature range for Field_ID 1895: 35.7\n",
      "Temperature range for Field_ID 5443: 33.4\n"
     ]
    }
   ],
   "source": [
    "def calculate_temperature_range(field_id):\n",
    "    # Filter the DataFrame for the given Field_ID\n",
    "    field_data = df[df['Field_ID'] == field_id]\n",
    "    \n",
    "    # Calculate temperature range for the field\n",
    "    temperature_range = field_data['Max_temperature_C'].max() - field_data['Min_temperature_C'].min()\n",
    "    \n",
    "    return temperature_range\n",
    "    \n",
    "   # Call the function with Field_IDs 1458, 1895, and 5443\n",
    "field_1458_range = calculate_temperature_range(1458)\n",
    "field_1895_range = calculate_temperature_range(1895)\n",
    "field_5443_range = calculate_temperature_range(5443)\n",
    "\n",
    "# Print the results\n",
    "print(\"Temperature range for Field_ID 1458:\", field_1458_range)\n",
    "print(\"Temperature range for Field_ID 1895:\", field_1895_range)\n",
    "print(\"Temperature range for Field_ID 5443:\", field_5443_range)"
   ]
  },
  {
   "cell_type": "markdown",
   "id": "8daf25e5-9887-4181-9aec-a51220f54b31",
   "metadata": {},
   "source": [
    "Write code to calculate the total plot size for plots where the pH is less than 5.5."
   ]
  },
  {
   "cell_type": "code",
   "execution_count": 38,
   "id": "30bc3e2c-392f-425e-9aeb-9f8a49c718b3",
   "metadata": {},
   "outputs": [
    {
     "name": "stdout",
     "output_type": "stream",
     "text": [
      "Total Plot Size for pH < 5.5: 1731.8999999999999\n"
     ]
    }
   ],
   "source": [
    "total_plot_size = df[df['pH'] < 5.5]['Plot_size'].sum()\n",
    "\n",
    "# Print the total plot size for pH < 5.5\n",
    "print(\"Total Plot Size for pH < 5.5:\", total_plot_size)"
   ]
  },
  {
   "cell_type": "markdown",
   "id": "44ac9a4a-5d1f-4ee8-8913-f54a504da09d",
   "metadata": {},
   "source": [
    "Using Pandas, create a dataframe that includes entries with a 'Min_temperature_C’< -5 and a 'Max_temperature_C' > 30. How many rows are in the filtered dataset?"
   ]
  },
  {
   "cell_type": "code",
   "execution_count": 39,
   "id": "afd2716b-9c76-4191-95fa-46a1e0c86788",
   "metadata": {},
   "outputs": [
    {
     "name": "stdout",
     "output_type": "stream",
     "text": [
      "Number of rows in the filtered dataset: 319\n",
      "\n",
      "Filtered DataFrame:\n",
      "     Field_ID  Elevation  Rainfall  Min_temperature_C  Max_temperature_C  \\\n",
      "0        1162  494.95615    1507.6               -5.4               31.0   \n",
      "2        3504  396.87990    1715.1               -6.1               31.7   \n",
      "5        2274  270.45100    1665.2               -7.2               34.3   \n",
      "13       4807  520.29770     292.3               -6.3               32.9   \n",
      "14        973  432.03570    1464.4               -6.0               30.2   \n",
      "..        ...        ...       ...                ...                ...   \n",
      "990      1637  504.66306    1144.5               -5.7               32.1   \n",
      "991       756  578.91270     889.4               -5.2               31.0   \n",
      "992      1332  359.76013    1816.0               -6.4               32.9   \n",
      "995      2202  572.95935     625.6               -5.5               31.0   \n",
      "996      2531  552.80945     398.1               -5.9               33.4   \n",
      "\n",
      "           pH  Pollution_level  Plot_size  Annual_yield Crop_type  \n",
      "0    6.859436         0.007034        3.6      1.617421    coffee  \n",
      "2    5.774116         0.000409        2.6      1.262207    banana  \n",
      "5    5.873082         0.001545        3.9      1.743458    banana  \n",
      "13   5.379286         0.196589        1.4      0.881568    potato  \n",
      "14   7.482802         0.019800        3.0      1.377434     wheat  \n",
      "..        ...              ...        ...           ...       ...  \n",
      "990  5.666609         0.431891        4.8      2.486276     wheat  \n",
      "991  5.062155         0.442495        2.2      1.209928   cassava  \n",
      "992  7.350705         0.133453        2.9      1.225715     wheat  \n",
      "995  5.258964         0.086330        1.2      0.750675     wheat  \n",
      "996  4.607136         0.130178        0.8      0.449790     wheat  \n",
      "\n",
      "[319 rows x 10 columns]\n"
     ]
    }
   ],
   "source": [
    "filtered_df = df[(df['Min_temperature_C'] < -5) & (df['Max_temperature_C'] > 30)]\n",
    "\n",
    "# Get the number of rows in the filtered DataFrame\n",
    "num_rows_filtered = filtered_df.shape[0]\n",
    "\n",
    "# Print the number of rows in the filtered dataset\n",
    "print(\"Number of rows in the filtered dataset:\", num_rows_filtered)\n",
    "\n",
    "# Optionally, you can print the filtered DataFrame\n",
    "print(\"\\nFiltered DataFrame:\")\n",
    "print(filtered_df)"
   ]
  },
  {
   "cell_type": "code",
   "execution_count": null,
   "id": "6b86ab2d-a80d-4926-92df-c587eafe2f10",
   "metadata": {},
   "outputs": [],
   "source": []
  },
  {
   "cell_type": "code",
   "execution_count": 41,
   "id": "4c56fd75-ef49-40e9-aa0d-d5491a6e12af",
   "metadata": {},
   "outputs": [
    {
     "name": "stdout",
     "output_type": "stream",
     "text": [
      "Standard Deviation of Rainfall for Plot_Size > Median Plot Size: 469.62\n"
     ]
    }
   ],
   "source": [
    "median_plot_size = df['Plot_size'].median()\n",
    "\n",
    "# Filter rows where Plot_Size is larger than the median plot size\n",
    "filtered_df = df[df['Plot_size'] > median_plot_size]\n",
    "\n",
    "# Calculate the standard deviation of 'Rainfall' for filtered rows\n",
    "std_dev_rainfall = np.std(filtered_df['Rainfall'])\n",
    "\n",
    "# Round to 2 decimal places\n",
    "std_dev_rainfall_rounded = round(std_dev_rainfall, 2)\n",
    "\n",
    "# Print the standard deviation of Rainfall for plots with Plot_Size > median plot size\n",
    "print(\"Standard Deviation of Rainfall for Plot_Size > Median Plot Size:\", std_dev_rainfall_rounded)"
   ]
  },
  {
   "cell_type": "code",
   "execution_count": null,
   "id": "6d35556a-c79b-4f0c-8c3e-490476aa6b76",
   "metadata": {},
   "outputs": [],
   "source": []
  },
  {
   "cell_type": "code",
   "execution_count": 42,
   "id": "85768f05-0ae7-4c24-a255-0ee30e6d4334",
   "metadata": {},
   "outputs": [
    {
     "name": "stdout",
     "output_type": "stream",
     "text": [
      "Concatenated String: 30.ice\n"
     ]
    }
   ],
   "source": [
    "# Find the most common Max_temperature_C (mode)\n",
    "mode_max_temp = df['Max_temperature_C'].mode()[0]  # Use [0] to get the first mode if multiple\n",
    "\n",
    "# Find the least common Crop_type\n",
    "least_common_crop_type = df['Crop_type'].value_counts().idxmin()\n",
    "\n",
    "# Extract first three digits of the mode Max_temperature_C\n",
    "first_three_digits = str(mode_max_temp)[:3]\n",
    "\n",
    "# Extract last three letters of the least common Crop_type\n",
    "last_three_letters = least_common_crop_type[-3:]\n",
    "\n",
    "# Concatenate the strings\n",
    "result_string = first_three_digits + last_three_letters\n",
    "\n",
    "# Print the result\n",
    "print(\"Concatenated String:\", result_string)"
   ]
  },
  {
   "cell_type": "code",
   "execution_count": null,
   "id": "05b244a5-567c-433f-b562-98f0bd5244fc",
   "metadata": {},
   "outputs": [],
   "source": []
  },
  {
   "cell_type": "code",
   "execution_count": 43,
   "id": "575e19d2-ee61-4dd7-8c65-18d651b18f98",
   "metadata": {},
   "outputs": [
    {
     "data": {
      "image/png": "[encoded data removed]",
      "text/plain": [
       "<Figure size 1000x600 with 1 Axes>"
      ]
     },
     "metadata": {},
     "output_type": "display_data"
    }
   ],
   "source": [
    "import pandas as pd\n",
    "import seaborn as sns\n",
    "import matplotlib.pyplot as plt\n",
    "\n",
    "# Define the full path to the CSV file\n",
    "file_path = r'C:\\Users\\Admin\\Documents\\MD_agric_exam-4313\\MD_agric_exam-4313.csv'\n",
    "\n",
    "# Read the CSV file\n",
    "df = pd.read_csv(file_path)\n",
    "\n",
    "# Define the elevation ranges\n",
    "def categorize_elevation(Elevation):\n",
    "    if Elevation < 300:\n",
    "        return 'Low'\n",
    "    elif 300 <= Elevation <= 600:\n",
    "        return 'Medium'\n",
    "    else:\n",
    "        return 'High'\n",
    "\n",
    "# Apply the categorization to create a new column 'Elevation_Category'\n",
    "df['Elevation_Category'] = df['Elevation'].apply(categorize_elevation)\n",
    "\n",
    "# Create the violin plot\n",
    "plt.figure(figsize=(10, 6))\n",
    "sns.violinplot(x='Elevation_Category', y='Annual_yield', data=df)\n",
    "plt.title('Distribution of Annual Yield Across Elevation Categories')\n",
    "plt.xlabel('Elevation Category')\n",
    "plt.ylabel('Annual Yield')\n",
    "plt.show()\n"
   ]
  },
  {
   "cell_type": "code",
   "execution_count": null,
   "id": "4a68e02f-436c-482b-8228-04ba6abf7d58",
   "metadata": {},
   "outputs": [],
   "source": []
  },
  {
   "cell_type": "code",
   "execution_count": 44,
   "id": "5333e19e-2109-4dbb-8d6f-b5621146bab0",
   "metadata": {},
   "outputs": [
    {
     "name": "stdout",
     "output_type": "stream",
     "text": [
      "Total sum of integer values for each unique crop type: 42\n"
     ]
    }
   ],
   "source": [
    "def sum_crop_type_lengths(df, unique_crop_types, index=0):\n",
    "    # Base case: if index reaches the length of unique_crop_types list\n",
    "    if index == len(unique_crop_types):\n",
    "        return 0\n",
    "    \n",
    "    # Get the current crop type\n",
    "    crop_type = unique_crop_types[index]\n",
    "    \n",
    "    # Get the length of the current crop type\n",
    "    length = len(crop_type)\n",
    "    \n",
    "    # Recursive call to sum the lengths for the next crop type\n",
    "    next_sum = sum_crop_type_lengths(df, unique_crop_types, index + 1)\n",
    "    \n",
    "    # If the current crop type exists in the DataFrame, add its length to the sum\n",
    "    if crop_type in df['Crop_type'].values:\n",
    "        return length + next_sum\n",
    "    else:\n",
    "        return next_sum\n",
    "\n",
    "# Get unique crop types\n",
    "unique_crop_types = df['Crop_type'].unique()\n",
    "\n",
    "# Call the recursive function to sum the integer values for each unique crop type\n",
    "total_sum = sum_crop_type_lengths(df, unique_crop_types)\n",
    "\n",
    "# Print the total sum\n",
    "print(\"Total sum of integer values for each unique crop type:\", total_sum)"
   ]
  },
  {
   "cell_type": "code",
   "execution_count": null,
   "id": "af68dd2c-d992-4d14-9f21-a72c1f30d00f",
   "metadata": {},
   "outputs": [],
   "source": []
  },
  {
   "cell_type": "code",
   "execution_count": 45,
   "id": "5459b9ae-f605-460d-a629-a4dd53da92c5",
   "metadata": {},
   "outputs": [
    {
     "name": "stdout",
     "output_type": "stream",
     "text": [
      "p-value: 0.598\n"
     ]
    }
   ],
   "source": [
    "import pandas as pd\n",
    "from scipy.stats import ttest_ind\n",
    "\n",
    "# Define the full path to the CSV file\n",
    "file_path = r'C:\\Users\\Admin\\Documents\\MD_agric_exam-4313\\MD_agric_exam-4313.csv'\n",
    "\n",
    "# Read the CSV file\n",
    "df = pd.read_csv(file_path)\n",
    "\n",
    "# Filter the DataFrame for 'coffee' and 'banana' crop types\n",
    "coffee_yield = df[df['Crop_type'] == 'coffee']['Annual_yield']\n",
    "banana_yield = df[df['Crop_type'] == 'banana']['Annual_yield']\n",
    "\n",
    "# Perform t-test\n",
    "t_statistic, p_value = ttest_ind(coffee_yield, banana_yield)\n",
    "\n",
    "# Print the p-value rounded to three decimal places\n",
    "print(\"p-value:\", round(p_value, 3))\n"
   ]
  },
  {
   "cell_type": "code",
   "execution_count": null,
   "id": "585a00ed-9700-4fd0-9ae4-fe1551464b28",
   "metadata": {},
   "outputs": [],
   "source": []
  }
 ],
 "metadata": {
  "kernelspec": {
   "display_name": "Python 3 (ipykernel)",
   "language": "python",
   "name": "python3"
  },
  "language_info": {
   "codemirror_mode": {
    "name": "ipython",
    "version": 3
   },
   "file_extension": ".py",
   "mimetype": "text/x-python",
   "name": "python",
   "nbconvert_exporter": "python",
   "pygments_lexer": "ipython3",
   "version": "3.11.5"
  }
 },
 "nbformat": 4,
 "nbformat_minor": 5
}
